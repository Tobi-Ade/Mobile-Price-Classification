{
 "cells": [
  {
   "cell_type": "code",
   "execution_count": 16,
   "id": "dcccbd07-1d0e-45bd-8d97-71421b50a13e",
   "metadata": {},
   "outputs": [],
   "source": [
    "import requests"
   ]
  },
  {
   "cell_type": "code",
   "execution_count": 20,
   "id": "b300786d-05fd-4563-80b2-dfdf7a483e16",
   "metadata": {},
   "outputs": [],
   "source": [
    "url = 'http://localhost:9696/'"
   ]
  },
  {
   "cell_type": "code",
   "execution_count": 21,
   "id": "97bc8b3a-7f26-43f5-a091-6db465a5be45",
   "metadata": {},
   "outputs": [],
   "source": [
    "device = {\n",
    "         'battery_power': 981.0,\n",
    "         'blue': 1.0,\n",
    "         'clock_speed': 1.9,\n",
    "         'dual_sim': 1.0,\n",
    "         'fc': 0.0,\n",
    "         'four_g': 0.0,\n",
    "         'int_memory': 2.0,\n",
    "         'm_dep': 0.1,\n",
    "         'mobile_wt': 136.0,\n",
    "         'n_cores': 3.0,\n",
    "         'pc': 7.0,\n",
    "         'px_height': 75.0,\n",
    "         'px_width': 688.0,\n",
    "         'ram': 1539.0,\n",
    "         'sc_h': 19.0,\n",
    "         'sc_w': 12.0,\n",
    "         'talk_time': 19.0,\n",
    "         'three_g': 0.0,\n",
    "         'touch_screen': 0.0,\n",
    "         'wifi': 0.0\n",
    "}"
   ]
  },
  {
   "cell_type": "code",
   "execution_count": 22,
   "id": "da47c417-9667-4533-bc5c-25a80fd93abc",
   "metadata": {},
   "outputs": [
    {
     "data": {
      "text/plain": [
       "{'price_range': 0}"
      ]
     },
     "execution_count": 22,
     "metadata": {},
     "output_type": "execute_result"
    }
   ],
   "source": [
    "requests.post(url, json=device).json()"
   ]
  },
  {
   "cell_type": "code",
   "execution_count": null,
   "id": "1fba95f8-6b99-4afa-b818-82ecfba9dcf9",
   "metadata": {},
   "outputs": [],
   "source": []
  }
 ],
 "metadata": {
  "kernelspec": {
   "display_name": "Python 3 (ipykernel)",
   "language": "python",
   "name": "python3"
  },
  "language_info": {
   "codemirror_mode": {
    "name": "ipython",
    "version": 3
   },
   "file_extension": ".py",
   "mimetype": "text/x-python",
   "name": "python",
   "nbconvert_exporter": "python",
   "pygments_lexer": "ipython3",
   "version": "3.9.7"
  }
 },
 "nbformat": 4,
 "nbformat_minor": 5
}
